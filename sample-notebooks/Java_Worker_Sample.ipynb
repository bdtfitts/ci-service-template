{
 "cells": [
  {
   "cell_type": "markdown",
   "metadata": {},
   "source": [
    "# Java Worker Example\n",
    "\n",
    "## Introduction\n",
    "This is a simple example how to use Java workers.  Essentially, these samples are same as the ones for Python and other languages."
   ]
  },
  {
   "cell_type": "code",
   "execution_count": 1,
   "metadata": {
    "collapsed": false
   },
   "outputs": [
    {
     "name": "stdout",
     "output_type": "stream",
     "text": [
      "Here is the list of services supported by this submit agent:\n",
      "\n",
      "[\n",
      "    {\n",
      "        \"description\": \"NBS worker sample\",\n",
      "        \"serviceName\": \"nbs\",\n",
      "        \"parameters\": [\n",
      "            {\n",
      "                \"type\": \"string\",\n",
      "                \"name\": \"inputFile\",\n",
      "                \"description\": \"Input file location\",\n",
      "                \"required\": true\n",
      "            }\n",
      "        ],\n",
      "        \"portNumber\": \"5561\"\n",
      "    },\n",
      "    {\n",
      "        \"description\": \"Sample Java worker to display greeting message\",\n",
      "        \"serviceName\": \"hello-java\",\n",
      "        \"parameters\": [\n",
      "            {\n",
      "                \"type\": \"string\",\n",
      "                \"name\": \"message\",\n",
      "                \"description\": \"Greeting message\",\n",
      "                \"required\": true\n",
      "            }\n",
      "        ],\n",
      "        \"portNumber\": \"5560\"\n",
      "    }\n",
      "]\n"
     ]
    }
   ],
   "source": [
    "IP = '0.0.0.0'  # You need to change this address to your container host\n",
    "BASE = 'http://' + IP + '/v1/'  \n",
    "\n",
    "import requests\n",
    "import json\n",
    "\n",
    "def jprint(data):\n",
    "    print(json.dumps(data, indent=4))\n",
    "\n",
    "HEADERS = {'Content-Type': 'application/json'}\n",
    "\n",
    "# List of all available services\n",
    "res = requests.get(BASE + 'services')\n",
    "print(\"Here is the list of services supported by this submit agent:\\n\")\n",
    "jprint(res.json())"
   ]
  },
  {
   "cell_type": "code",
   "execution_count": null,
   "metadata": {
    "collapsed": false
   },
   "outputs": [],
   "source": [
    "# And this is the sample Java Worker\n",
    "res = requests.get(BASE + 'services/hello-java')\n",
    "jprint(res.json())"
   ]
  },
  {
   "cell_type": "code",
   "execution_count": 52,
   "metadata": {
    "collapsed": false
   },
   "outputs": [
    {
     "name": "stdout",
     "output_type": "stream",
     "text": [
      "{\n",
      "    \"status\": \"queued\",\n",
      "    \"job_id\": \"780dac9e-8cec-482d-8be1-67087c0c6e3b\"\n",
      "}\n"
     ]
    }
   ],
   "source": [
    "# Submit a job\n",
    "greeting = {\n",
    "    'message': 'Hello, this is a message for Java from Python client.'\n",
    "}\n",
    "\n",
    "for i in range(10):\n",
    "    res = requests.post(BASE + 'services/hello-java', data=json.dumps(greeting), headers=HEADERS)\n",
    "\n",
    "job_id1 = res.json()['job_id']\n",
    "jprint(res.json())"
   ]
  },
  {
   "cell_type": "code",
   "execution_count": 53,
   "metadata": {
    "collapsed": false
   },
   "outputs": [
    {
     "name": "stdout",
     "output_type": "stream",
     "text": [
      "{\n",
      "    \"status\": \"queued\",\n",
      "    \"job_id\": \"48a7970e-57f9-4101-81e8-bd76e9d09c8d\"\n",
      "}\n"
     ]
    }
   ],
   "source": [
    "nbs_input = {\n",
    "    'inputFile': 'http://www.cytoscape.org/'\n",
    "}\n",
    "\n",
    "for i in range(10):\n",
    "    res = requests.post(BASE + 'services/nbs', data=json.dumps(nbs_input), headers=HEADERS)\n",
    "\n",
    "job_id1 = res.json()['job_id']\n",
    "jprint(res.json())"
   ]
  },
  {
   "cell_type": "code",
   "execution_count": 56,
   "metadata": {
    "collapsed": false
   },
   "outputs": [
    {
     "name": "stdout",
     "output_type": "stream",
     "text": [
      "[\n",
      "    {\n",
      "        \"status\": \"finished\",\n",
      "        \"job_id\": \"145f3f33-8acc-4b1e-9e31-e619ffde3266\"\n",
      "    },\n",
      "    {\n",
      "        \"status\": \"finished\",\n",
      "        \"job_id\": \"9c114d4c-7118-4054-a6b0-644f4b6a96f1\"\n",
      "    },\n",
      "    {\n",
      "        \"status\": \"finished\",\n",
      "        \"job_id\": \"d74f2734-6ede-4a2a-842d-2f186fde9c6d\"\n",
      "    },\n",
      "    {\n",
      "        \"status\": \"finished\",\n",
      "        \"job_id\": \"673ffc02-14ec-4378-b376-fe1181b21afa\"\n",
      "    },\n",
      "    {\n",
      "        \"status\": \"finished\",\n",
      "        \"job_id\": \"5644a8a2-a2e4-460a-a5ad-f6ba63048530\"\n",
      "    },\n",
      "    {\n",
      "        \"status\": \"finished\",\n",
      "        \"job_id\": \"27262a47-31f6-42f2-9b20-1894c7c4f82e\"\n",
      "    },\n",
      "    {\n",
      "        \"status\": \"finished\",\n",
      "        \"job_id\": \"78809ad1-39f3-400b-b4bf-6eb755e68884\"\n",
      "    },\n",
      "    {\n",
      "        \"status\": \"finished\",\n",
      "        \"job_id\": \"780dac9e-8cec-482d-8be1-67087c0c6e3b\"\n",
      "    },\n",
      "    {\n",
      "        \"status\": \"finished\",\n",
      "        \"job_id\": \"fb025aab-37c9-41f5-9dbc-6485c22bb3c8\"\n",
      "    },\n",
      "    {\n",
      "        \"status\": \"finished\",\n",
      "        \"job_id\": \"9f64f9d5-d9b2-45ce-a539-871be5da0bee\"\n",
      "    },\n",
      "    {\n",
      "        \"status\": \"finished\",\n",
      "        \"job_id\": \"48a7970e-57f9-4101-81e8-bd76e9d09c8d\"\n",
      "    },\n",
      "    {\n",
      "        \"status\": \"finished\",\n",
      "        \"job_id\": \"02928f9c-a40a-4770-ae6f-252ca58b233f\"\n",
      "    },\n",
      "    {\n",
      "        \"status\": \"finished\",\n",
      "        \"job_id\": \"6eef479d-6ecc-4abf-a684-c927194e4438\"\n",
      "    },\n",
      "    {\n",
      "        \"status\": \"finished\",\n",
      "        \"job_id\": \"7c580edb-00d2-45a2-b8ab-0ab7638adde7\"\n",
      "    },\n",
      "    {\n",
      "        \"status\": \"finished\",\n",
      "        \"job_id\": \"76aca870-f138-4a13-9889-14f38e1d6622\"\n",
      "    },\n",
      "    {\n",
      "        \"status\": \"finished\",\n",
      "        \"job_id\": \"e54f74e5-9797-44c0-83ee-e9d01e9c94ec\"\n",
      "    },\n",
      "    {\n",
      "        \"status\": \"finished\",\n",
      "        \"job_id\": \"4d557701-5072-4ef6-8c46-4eba951c45e2\"\n",
      "    },\n",
      "    {\n",
      "        \"status\": \"finished\",\n",
      "        \"job_id\": \"f59f48c6-d868-4041-9a33-faf087e9a07b\"\n",
      "    },\n",
      "    {\n",
      "        \"status\": \"finished\",\n",
      "        \"job_id\": \"2e5b2d29-7668-4a57-98fa-a2b6811323c8\"\n",
      "    },\n",
      "    {\n",
      "        \"status\": \"finished\",\n",
      "        \"job_id\": \"72d5b338-0824-4f04-93e4-72b7026896b5\"\n",
      "    }\n",
      "]\n"
     ]
    }
   ],
   "source": [
    "# Check the job status\n",
    "res = requests.get(BASE + 'queue')\n",
    "# job_id1 = res.json()[0]['job_id']\n",
    "jprint(res.json())"
   ]
  },
  {
   "cell_type": "code",
   "execution_count": 49,
   "metadata": {
    "collapsed": false
   },
   "outputs": [
    {
     "name": "stdout",
     "output_type": "stream",
     "text": [
      "http://192.168.99.100/v1/queue/23b26466-a3d1-484a-9014-51594e584b64/result\n",
      "{\n",
      "    \"result\": \"Dummy result\"\n",
      "}\n"
     ]
    }
   ],
   "source": [
    "result_url = BASE + 'queue/' + job_id1 + '/result'\n",
    "print(result_url)\n",
    "res = requests.get(result_url)\n",
    "jprint(res.json())"
   ]
  },
  {
   "cell_type": "code",
   "execution_count": 50,
   "metadata": {
    "collapsed": false
   },
   "outputs": [],
   "source": [
    "res = requests.delete(BASE + 'queue')\n"
   ]
  }
 ],
 "metadata": {
  "kernelspec": {
   "display_name": "Python 3",
   "language": "python",
   "name": "python3"
  },
  "language_info": {
   "codemirror_mode": {
    "name": "ipython",
    "version": 3
   },
   "file_extension": ".py",
   "mimetype": "text/x-python",
   "name": "python",
   "nbconvert_exporter": "python",
   "pygments_lexer": "ipython3",
   "version": "3.4.3"
  }
 },
 "nbformat": 4,
 "nbformat_minor": 0
}
